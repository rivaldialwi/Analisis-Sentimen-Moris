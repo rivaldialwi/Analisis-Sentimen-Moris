{
 "cells": [
  {
   "cell_type": "code",
   "execution_count": 1,
   "id": "16993e0d",
   "metadata": {},
   "outputs": [
    {
     "name": "stdout",
     "output_type": "stream",
     "text": [
      "Requirement already satisfied: wordcloud in c:\\users\\asus\\anaconda3\\lib\\site-packages (1.9.3)\n",
      "Requirement already satisfied: numpy>=1.6.1 in c:\\users\\asus\\anaconda3\\lib\\site-packages (from wordcloud) (1.24.3)\n",
      "Requirement already satisfied: pillow in c:\\users\\asus\\anaconda3\\lib\\site-packages (from wordcloud) (9.4.0)\n",
      "Requirement already satisfied: matplotlib in c:\\users\\asus\\anaconda3\\lib\\site-packages (from wordcloud) (3.7.2)\n",
      "Requirement already satisfied: contourpy>=1.0.1 in c:\\users\\asus\\anaconda3\\lib\\site-packages (from matplotlib->wordcloud) (1.0.5)\n",
      "Requirement already satisfied: cycler>=0.10 in c:\\users\\asus\\anaconda3\\lib\\site-packages (from matplotlib->wordcloud) (0.11.0)\n",
      "Requirement already satisfied: fonttools>=4.22.0 in c:\\users\\asus\\anaconda3\\lib\\site-packages (from matplotlib->wordcloud) (4.25.0)\n",
      "Requirement already satisfied: kiwisolver>=1.0.1 in c:\\users\\asus\\anaconda3\\lib\\site-packages (from matplotlib->wordcloud) (1.4.4)\n",
      "Requirement already satisfied: packaging>=20.0 in c:\\users\\asus\\anaconda3\\lib\\site-packages (from matplotlib->wordcloud) (23.1)\n",
      "Requirement already satisfied: pyparsing<3.1,>=2.3.1 in c:\\users\\asus\\anaconda3\\lib\\site-packages (from matplotlib->wordcloud) (3.0.9)\n",
      "Requirement already satisfied: python-dateutil>=2.7 in c:\\users\\asus\\anaconda3\\lib\\site-packages (from matplotlib->wordcloud) (2.8.2)\n",
      "Requirement already satisfied: six>=1.5 in c:\\users\\asus\\anaconda3\\lib\\site-packages (from python-dateutil>=2.7->matplotlib->wordcloud) (1.16.0)\n",
      "Requirement already satisfied: Sastrawi in c:\\users\\asus\\anaconda3\\lib\\site-packages (1.0.1)\n"
     ]
    }
   ],
   "source": [
    "!pip install wordcloud\n",
    "!pip install Sastrawi"
   ]
  },
  {
   "cell_type": "code",
   "execution_count": 2,
   "id": "6ef7d241",
   "metadata": {},
   "outputs": [],
   "source": [
    "import pandas as pd\n",
    "import re\n",
    "import matplotlib.pyplot as plt\n",
    "import nltk\n",
    "import nlp_id\n",
    "import joblib\n",
    "from nltk.corpus import stopwords\n",
    "from nltk.stem import PorterStemmer\n",
    "from nltk.tokenize import word_tokenize\n",
    "from sklearn.model_selection import train_test_split\n",
    "from sklearn.feature_extraction.text import TfidfVectorizer\n",
    "from sklearn.linear_model import LogisticRegression\n",
    "from sklearn.metrics import accuracy_score\n",
    "from sklearn.metrics import precision_score\n",
    "from sklearn.metrics import recall_score\n",
    "from Sastrawi.Stemmer.StemmerFactory import StemmerFactory\n",
    "from Sastrawi.StopWordRemover.StopWordRemoverFactory import StopWordRemoverFactory\n",
    "from wordcloud import WordCloud"
   ]
  },
  {
   "cell_type": "code",
   "execution_count": 3,
   "id": "547cdf89",
   "metadata": {},
   "outputs": [
    {
     "name": "stdout",
     "output_type": "stream",
     "text": [
      "Index(['Unnamed: 0', 'Username', 'Link', 'Text', 'Human', 'Date'], dtype='object')\n"
     ]
    }
   ],
   "source": [
    "# Membaca dataset dari file CSV\n",
    "df = pd.read_csv('data.csv')\n",
    "\n",
    "# Menampilkan nama-nama kolom dalam DataFrame\n",
    "print(df.columns)"
   ]
  },
  {
   "cell_type": "code",
   "execution_count": 4,
   "id": "5e850535",
   "metadata": {},
   "outputs": [
    {
     "name": "stdout",
     "output_type": "stream",
     "text": [
      "Lima baris pertama dari dataset:\n",
      "   Unnamed: 0           Username                                       Link  \\\n",
      "0         NaN          singkongn          https://www.tiktok.com/@singkongn   \n",
      "1         NaN     sayangku.277k8     https://www.tiktok.com/@sayangku.277k8   \n",
      "2         NaN      dwiyunita5590      https://www.tiktok.com/@dwiyunita5590   \n",
      "3         NaN  user9389223675880  https://www.tiktok.com/@user9389223675880   \n",
      "4         NaN       endahyumna07       https://www.tiktok.com/@endahyumna07   \n",
      "\n",
      "                                                Text    Human        Date  \n",
      "0                   Metropolis wangi nya enak banget  Positif  15/01/2024  \n",
      "1                       parfum buat cewek ada ga ka?   Netral  14/01/2024  \n",
      "2                                    yah, stok habis  Negatif  11/01/2024  \n",
      "3  rekomendasi yang buat cewe kalau di pakai sian...   Netral  11/01/2024  \n",
      "4  tidak bisa di bagian dalam siku dan di leher, ...  Negatif  11/01/2024  \n"
     ]
    },
    {
     "data": {
      "image/png": "[encoded data removed]",
      "text/plain": [
       "<Figure size 800x600 with 1 Axes>"
      ]
     },
     "metadata": {},
     "output_type": "display_data"
    }
   ],
   "source": [
    "# Membaca dataset\n",
    "data = pd.read_csv('data.csv')  # Ganti 'nama_file.csv' dengan nama file dataset Anda\n",
    "\n",
    "# Menampilkan lima baris pertama dari dataset\n",
    "print(\"Lima baris pertama dari dataset:\")\n",
    "print(data.head())\n",
    "\n",
    "# Menampilkan jumlah entri dengan sentimen negatif, netral, dan positif\n",
    "sentimen_count = data['Human'].value_counts()\n",
    "\n",
    "# Membuat plot diagram batang\n",
    "plt.figure(figsize=(8, 6))\n",
    "sentimen_count.plot(kind='bar', color=['green', 'red', 'grey'])\n",
    "plt.title('Jumlah Sentimen positif, negatif, dan netral')\n",
    "plt.xlabel('Sentimen')\n",
    "plt.ylabel('Jumlah')\n",
    "plt.xticks(rotation=0)\n",
    "plt.show()"
   ]
  },
  {
   "cell_type": "code",
   "execution_count": 5,
   "id": "c1d2bbc4",
   "metadata": {},
   "outputs": [
    {
     "name": "stdout",
     "output_type": "stream",
     "text": [
      "Jumlah Sentimen Positif: 420\n",
      "Jumlah Sentimen Netral: 149\n",
      "Jumlah Sentimen Negatif: 431\n"
     ]
    }
   ],
   "source": [
    "# Menghitung jumlah sentimen positif, netral, dan negatif\n",
    "positif_count = (data['Human'] == 'Positif').sum()\n",
    "netral_count = (data['Human'] == 'Netral').sum()\n",
    "negatif_count = (data['Human'] == 'Negatif').sum()\n",
    "\n",
    "# Menampilkan jumlah sentimen positif, netral, dan negatif\n",
    "print(\"Jumlah Sentimen Positif:\", positif_count)\n",
    "print(\"Jumlah Sentimen Netral:\", netral_count)\n",
    "print(\"Jumlah Sentimen Negatif:\", negatif_count)"
   ]
  },
  {
   "cell_type": "code",
   "execution_count": null,
   "id": "917e1d6a",
   "metadata": {},
   "outputs": [],
   "source": [
    "# Membaca data dari file CSV\n",
    "df = pd.read_csv(\"data.csv\")\n",
    "\n",
    "# PROSES CLEANSING DATA\n",
    "# Membersihkan data kolom 'Human' dari karakter yang tidak diinginkan\n",
    "def clean_text(text):\n",
    "    # Contoh: Menghilangkan tanda baca dan mengubah teks menjadi huruf kecil\n",
    "    text = text.replace(\",\", \"\")\n",
    "    text = text.replace(\".\", \"\")\n",
    "    text = text.replace(\"!\", \"\")\n",
    "    text = text.replace(\"?\", \"\")\n",
    "    text = text.replace(\"@\", \"\")\n",
    "    text = text.replace(\"#\", \"\")\n",
    "    # Lanjutkan sesuai kebutuhan membersihkan teks\n",
    "    \n",
    "    return text\n",
    "\n",
    "# Memanggil fungsi clean_text untuk membersihkan kolom 'Human'\n",
    "df['Text'] = df['Text'].apply(clean_text)\n",
    "\n",
    "# PROSES CASE FOLDING\n",
    "# Proses case folding pada kolom 'Human'\n",
    "df['Text'] = df['Text'].str.lower()\n",
    "\n",
    "# PROSES Stopword\n",
    "\n",
    "# Inisialisasi stemmer Sastrawi\n",
    "stemmer = StemmerFactory().create_stemmer()\n",
    "\n",
    "# Fungsi untuk stemming dengan Sastrawi\n",
    "def stemming(text):\n",
    "    return stemmer.stem(text)\n",
    "\n",
    "df['Text'] = df['Text'].apply(stemming)\n",
    "\n",
    "# Inisialisasi stopword remover Sastrawi\n",
    "stopword_remover = StopWordRemoverFactory().create_stop_word_remover()\n",
    "\n",
    "# Fungsi untuk menghapus stopword dengan Sastrawi\n",
    "def remove_stopwords(text):\n",
    "    return stopword_remover.remove(text)\n",
    "\n",
    "df['Text'] = df['Text'].apply(remove_stopwords)\n",
    "\n",
    "\n",
    "# PROSES Stemming\n",
    "\n",
    "# Inisialisasi stemmer bahasa Inggris\n",
    "stemmer = PorterStemmer()\n",
    "\n",
    "# Fungsi untuk melakukan stemming pada teks\n",
    "def stemming(text):\n",
    "    words = text.split()  # Memisahkan teks menjadi kata-kata\n",
    "    stemmed_words = [stemmer.stem(word) for word in words]\n",
    "    return ' '.join(stemmed_words)\n",
    "\n",
    "# Memanggil fungsi stemming untuk melakukan stemming pada kolom 'Human'\n",
    "df['Text'] = df['Text'].apply(stemming)\n",
    "\n",
    "# PROSES Tokenizing\n",
    "\n",
    "# Fungsi untuk melakukan tokenisasi pada teks\n",
    "def tokenize(text):\n",
    "    tokens = word_tokenize(text)  # Melakukan tokenisasi kata\n",
    "    return tokens\n",
    "\n",
    "# Memanggil fungsi tokenize untuk melakukan tokenisasi pada kolom 'Human'\n",
    "df['Text'] = df['Text'].apply(tokenize)\n",
    "\n",
    "\n",
    "# Menampilkan hasil setelah membersihkan data\n",
    "print(df['Text'])"
   ]
  },
  {
   "cell_type": "code",
   "execution_count": null,
   "id": "05a5c4c0",
   "metadata": {},
   "outputs": [],
   "source": [
    "# Membaca dataset dari file CSV\n",
    "df = pd.read_csv('data.csv')\n",
    "\n",
    "stopword = {\n",
    "    \"yang\": \"\",\n",
    "    \"nya\": \"\",\n",
    "    \"kok\": \"\",\n",
    "    \"sih\": \"\",\n",
    "    \"ga\": \"tidak\",\n",
    "    \"gak\": \"tidak\",\n",
    "    \"tidakk\": \"tidak\",\n",
    "    \"udah\": \"sudah\",\n",
    "    \"ka\": \"kak\",\n",
    "    \"kakk\": \"kak\",\n",
    "    \"cewe\": \"cewek\",\n",
    "    \"cew\": \"cewek\",\n",
    "    \"cowo\": \"cowok\",\n",
    "    \"cow\": \"cowok\",\n",
    "}\n",
    "\n",
    "def normalize_text(text, stopword):\n",
    "    for word, replacement in stopword.items():\n",
    "        text = text.replace(word, replacement)\n",
    "    return text\n",
    "\n",
    "df['Text'] = df['Text'].apply(lambda x: normalize_text(x, stopword))\n",
    "\n",
    "# Membuat word cloud untuk setiap sentimen\n",
    "for sentiment in df['Human'].unique():\n",
    "    # Menggabungkan semua teks dalam kolom 'Text' berdasarkan sentimen\n",
    "    text = ' '.join(df[df['Human'] == sentiment]['Text'])\n",
    "    \n",
    "    # Membuat objek WordCloud\n",
    "    wordcloud = WordCloud(width=300, height=200, background_color='white').generate(text)\n",
    "    \n",
    "    # Menampilkan word cloud\n",
    "    plt.figure(figsize=(10, 5))\n",
    "    plt.imshow(wordcloud, interpolation='bilinear')\n",
    "    plt.title(f'Word Cloud untuk Sentimen {sentiment}')\n",
    "    plt.axis('off')\n",
    "    plt.show()"
   ]
  },
  {
   "cell_type": "code",
   "execution_count": null,
   "id": "7d9ebfde",
   "metadata": {},
   "outputs": [],
   "source": [
    "# PROSES Pembobotan Dan Pembagian Data Training Dan Data Testing Menggunakan TF-IDF\n",
    "\n",
    "# Membaca data dari file CSV\n",
    "df = pd.read_csv(\"data.csv\")\n",
    "\n",
    "# Memisahkan fitur (X) dan label (y)\n",
    "X = df['Text']\n",
    "y = df['Human']\n",
    "\n",
    "# Memisahkan data menjadi data pelatihan (training) dan data pengujian (testing) dengan rasio 80:20\n",
    "X_train, X_test, y_train, y_test = train_test_split(X, y, test_size=0.2, random_state=42)\n",
    "\n",
    "# Inisialisasi objek TF-IDF Vectorizer\n",
    "tfidf_vectorizer = TfidfVectorizer()\n",
    "\n",
    "# Melakukan pembelajaran (fitting) dan transformasi pada data pelatihan\n",
    "X_train_tfidf = tfidf_vectorizer.fit_transform(X_train)\n",
    "\n",
    "# Melakukan transformasi pada data pengujian\n",
    "X_test_tfidf = tfidf_vectorizer.transform(X_test)\n",
    "\n",
    "# Menampilkan dimensi dari matriks TF-IDF\n",
    "print(\"Dimensi matriks TF-IDF untuk data pelatihan:\", X_train_tfidf.shape)\n",
    "print(\"Dimensi matriks TF-IDF untuk data pengujian:\", X_test_tfidf.shape)"
   ]
  },
  {
   "cell_type": "code",
   "execution_count": null,
   "id": "cd44a0da",
   "metadata": {},
   "outputs": [],
   "source": [
    "# Inisialisasi model regresi logistik multinomial\n",
    "logreg_model = LogisticRegression(multi_class='multinomial', solver='lbfgs')\n",
    "\n",
    "# Melatih model regresi logistik menggunakan data pelatihan dan labelnya\n",
    "logreg_model.fit(X_train_tfidf, y_train)\n",
    "\n",
    "# Memprediksi label untuk data pengujian\n",
    "y_pred = logreg_model.predict(X_test_tfidf)"
   ]
  },
  {
   "cell_type": "code",
   "execution_count": null,
   "id": "4d5159e2",
   "metadata": {},
   "outputs": [],
   "source": [
    "from sklearn.metrics import accuracy_score, precision_score, recall_score\n",
    "\n",
    "# Memprediksi label untuk data pengujian\n",
    "y_pred = logreg_model.predict(X_test_tfidf)\n",
    "\n",
    "# Menghitung akurasi prediksi\n",
    "accuracy = accuracy_score(y_test, y_pred)\n",
    "print(\"Akurasi model regresi logistik multinomial:\", accuracy)\n",
    "\n",
    "# Menghitung presisi prediksi\n",
    "precision = precision_score(y_test, y_pred, average='weighted', zero_division=1)\n",
    "print(\"Presisi model regresi logistik multinomial:\", precision)\n",
    "\n",
    "# Menghitung recall prediksi\n",
    "recall = recall_score(y_test, y_pred, average='weighted', zero_division=1)\n",
    "print(\"Recall model regresi logistik multinomial:\", recall)"
   ]
  },
  {
   "cell_type": "code",
   "execution_count": null,
   "id": "9c22414e",
   "metadata": {},
   "outputs": [],
   "source": [
    "# Simpan model ke dalam file\n",
    "joblib.dump(logreg_model, \"model100.pkl\")\n",
    "joblib.dump(tfidf_vectorizer, \"tfidf_vectorizer.pkl\")\n",
    "\n",
    "# Output pesan konfirmasi\n",
    "print(\"Model berhasil disimpan dalam file 'model100.pkl'.\")"
   ]
  },
  {
   "cell_type": "code",
   "execution_count": null,
   "id": "41492cb4",
   "metadata": {
    "scrolled": true
   },
   "outputs": [],
   "source": [
    "# Load model yang sudah dilatih\n",
    "logreg_model = joblib.load(\"model100.pkl\")\n",
    "\n",
    "# Fungsi untuk melakukan klasifikasi teks\n",
    "def classify_text(input_text):\n",
    "    # Membersihkan teks input\n",
    "    cleaned_text = clean_text(input_text)\n",
    "    # Mengubah teks input menjadi vektor fitur menggunakan TF-IDF\n",
    "    input_vector = tfidf_vectorizer.transform([cleaned_text])\n",
    "    # Melakukan prediksi menggunakan model\n",
    "    predicted_label = logreg_model.predict(input_vector)[0]\n",
    "    if predicted_label == 'Positif':\n",
    "        return \"Kalimat termasuk dalam kategori: Positif\"\n",
    "    elif predicted_label == 'Negatif':\n",
    "        return \"Kalimat termasuk dalam kategori: Negatif\"\n",
    "    else:\n",
    "        return \"Kalimat termasuk dalam kategori: Netral\"\n",
    "\n",
    "# Contoh penggunaan\n",
    "input_text = \"nyesel beli parfum ini kebanyakan alkohol bau nya tidak enak\"\n",
    "result = classify_text(input_text)\n",
    "print(result)"
   ]
  }
 ],
 "metadata": {
  "kernelspec": {
   "display_name": "Python 3 (ipykernel)",
   "language": "python",
   "name": "python3"
  },
  "language_info": {
   "codemirror_mode": {
    "name": "ipython",
    "version": 3
   },
   "file_extension": ".py",
   "mimetype": "text/x-python",
   "name": "python",
   "nbconvert_exporter": "python",
   "pygments_lexer": "ipython3",
   "version": "3.11.5"
  }
 },
 "nbformat": 4,
 "nbformat_minor": 5
}
